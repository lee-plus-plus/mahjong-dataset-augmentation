{
 "cells": [
  {
   "cell_type": "markdown",
   "metadata": {
    "id": "wJMCMHwFcC1I"
   },
   "source": [
    "# Import libraries"
   ]
  },
  {
   "cell_type": "code",
   "execution_count": 1,
   "metadata": {
    "id": "kGWIFVVPaMx3"
   },
   "outputs": [
    {
     "name": "stderr",
     "output_type": "stream",
     "text": [
      "Missing colon in file PosixPath('/home/leeu/miniconda3/envs/torch/lib/python3.7/site-packages/matplotlib/mpl-data/matplotlibrc'), line 264 (' added by lee')\n",
      "Duplicate key in file PosixPath('/home/leeu/miniconda3/envs/torch/lib/python3.7/site-packages/matplotlib/mpl-data/matplotlibrc'), line 265 ('font.family:            sans-serif')\n",
      "Duplicate key in file PosixPath('/home/leeu/miniconda3/envs/torch/lib/python3.7/site-packages/matplotlib/mpl-data/matplotlibrc'), line 270 ('font.sans-serif: DejaVu Sans, Bitstream Vera Sans, Computer Modern Sans Serif, Lucida Grande, Verdana, Geneva, Lucid, Arial, Helvetica, Avant Garde, sans-serif')\n",
      "Duplicate key in file PosixPath('/home/leeu/miniconda3/envs/torch/lib/python3.7/site-packages/matplotlib/mpl-data/matplotlibrc'), line 413 ('axes.unicode_minus: True  # use Unicode for the minus symbol rather than hyphen.  See')\n"
     ]
    }
   ],
   "source": [
    "from glob import glob \n",
    "import matplotlib.pyplot as plt\n",
    "import matplotlib.image as mpimg\n",
    "# import pickle\n",
    "import random\n",
    "import numpy as np\n",
    "import cv2\n",
    "# import datetime\n",
    "from tqdm import tqdm"
   ]
  },
  {
   "cell_type": "markdown",
   "metadata": {
    "id": "Uz-TXokVshuI"
   },
   "source": [
    "# Retrieve images from external sources"
   ]
  },
  {
   "cell_type": "code",
   "execution_count": 7,
   "metadata": {
    "colab": {
     "base_uri": "https://localhost:8080/"
    },
    "id": "1Xxnba9tyEDT",
    "outputId": "b12b92e7-82be-470e-be27-45fce4ee5aef",
    "tags": []
   },
   "outputs": [
    {
     "name": "stdout",
     "output_type": "stream",
     "text": [
      "Cloning into 'mahjong-dataset'...\n",
      "fatal: unable to access 'https://github.com.cnpmjs.org/camerash/mahjong-dataset/': server certificate verification failed. CAfile: none CRLfile: none\n"
     ]
    }
   ],
   "source": [
    "# Clone the GitHub repo of mahjong tile images\n",
    "!git clone https://github.com/camerash/mahjong-dataset\n",
    "# mirror:\n",
    "# !git clone https://github.com.cnpmjs.org/camerash/mahjong-dataset"
   ]
  },
  {
   "cell_type": "code",
   "execution_count": 8,
   "metadata": {
    "colab": {
     "base_uri": "https://localhost:8080/"
    },
    "id": "Xqj--Gy6g0YQ",
    "outputId": "2b3816eb-e4e0-4566-f618-af702504d2bd"
   },
   "outputs": [
    {
     "name": "stdout",
     "output_type": "stream",
     "text": [
      "--2022-01-20 13:55:31--  https://www.robots.ox.ac.uk/~vgg/data/dtd/download/dtd-r1.0.1.tar.gz\n",
      "Resolving www.robots.ox.ac.uk (www.robots.ox.ac.uk)... 129.67.94.2\n",
      "Connecting to www.robots.ox.ac.uk (www.robots.ox.ac.uk)|129.67.94.2|:443... connected.\n",
      "HTTP request sent, awaiting response... 200 OK\n",
      "Length: 625239812 (596M) [application/x-gzip]\n",
      "Saving to: 'dtd-r1.0.1.tar.gz'\n",
      "\n",
      "dtd-r1.0.1.tar.gz     0%[                    ] 367.82K  13.5KB/s    eta 12h 10m^C\n"
     ]
    }
   ],
   "source": [
    "# Download Describable Textures Dataset (DTD)\n",
    "!wget https://www.robots.ox.ac.uk/~vgg/data/dtd/download/dtd-r1.0.1.tar.gz"
   ]
  },
  {
   "cell_type": "code",
   "execution_count": 9,
   "metadata": {
    "id": "fzkm0eIpg0yW"
   },
   "outputs": [],
   "source": [
    "# Extract the DTD\n",
    "!tar xf dtd-r1.0.1.tar.gz"
   ]
  },
  {
   "cell_type": "markdown",
   "metadata": {},
   "source": [
    "## Load Images"
   ]
  },
  {
   "cell_type": "code",
   "execution_count": 10,
   "metadata": {},
   "outputs": [
    {
     "name": "stderr",
     "output_type": "stream",
     "text": [
      "100%|██████████████████████████████████████████████████████████████████████████████████████████████████████████████████████████████████████████████████| 5640/5640 [00:32<00:00, 174.22it/s]\n"
     ]
    }
   ],
   "source": [
    "# load background images\n",
    "\n",
    "bg_images_filename = glob('dtd/images/*/*.jpg')\n",
    "bg_images = [cv2.imread(filename) for filename in tqdm(bg_images_filename)]"
   ]
  },
  {
   "cell_type": "code",
   "execution_count": 11,
   "metadata": {},
   "outputs": [
    {
     "name": "stderr",
     "output_type": "stream",
     "text": [
      "100%|████████████████████████████████████████████████████████████████████████████████████████████████████████████████████████████████████████████████████| 629/629 [00:01<00:00, 544.16it/s]\n"
     ]
    }
   ],
   "source": [
    "# load mahjong image\n",
    "\n",
    "import pandas as pd\n",
    "\n",
    "table = pd.read_csv('mahjong-dataset/tiles-data/data.csv', index_col=False)\n",
    "tile_images_filename = list(table.iloc[:, 0])\n",
    "tile_images_type = list(table.iloc[:, 2])\n",
    "tile_images_label = list(table.iloc[:, 1])\n",
    "tile_images = [cv2.imread('mahjong-dataset/tiles-resized/' + filename) for filename in tqdm(tile_images_filename)]\n"
   ]
  },
  {
   "cell_type": "code",
   "execution_count": 12,
   "metadata": {},
   "outputs": [
    {
     "data": {
      "text/plain": [
       "{'bamboo-1',\n",
       " 'bamboo-2',\n",
       " 'bamboo-3',\n",
       " 'bamboo-4',\n",
       " 'bamboo-5',\n",
       " 'bamboo-6',\n",
       " 'bamboo-7',\n",
       " 'bamboo-8',\n",
       " 'bamboo-9',\n",
       " 'bonus-autumn',\n",
       " 'bonus-bamboo',\n",
       " 'bonus-chrysanthemum',\n",
       " 'bonus-orchid',\n",
       " 'bonus-plum',\n",
       " 'bonus-spring',\n",
       " 'bonus-summer',\n",
       " 'bonus-winter',\n",
       " 'characters-1',\n",
       " 'characters-2',\n",
       " 'characters-3',\n",
       " 'characters-4',\n",
       " 'characters-5',\n",
       " 'characters-6',\n",
       " 'characters-7',\n",
       " 'characters-8',\n",
       " 'characters-9',\n",
       " 'dots-1',\n",
       " 'dots-2',\n",
       " 'dots-3',\n",
       " 'dots-4',\n",
       " 'dots-5',\n",
       " 'dots-6',\n",
       " 'dots-7',\n",
       " 'dots-8',\n",
       " 'dots-9',\n",
       " 'honors-east',\n",
       " 'honors-green',\n",
       " 'honors-north',\n",
       " 'honors-red',\n",
       " 'honors-south',\n",
       " 'honors-west',\n",
       " 'honors-white'}"
      ]
     },
     "execution_count": 12,
     "metadata": {},
     "output_type": "execute_result"
    }
   ],
   "source": [
    "set(tile_images_type)"
   ]
  },
  {
   "cell_type": "markdown",
   "metadata": {
    "id": "fJBBYGpbdTKF",
    "tags": []
   },
   "source": [
    "## Define functions"
   ]
  },
  {
   "cell_type": "code",
   "execution_count": 13,
   "metadata": {
    "id": "CskbcMZG6M9L"
   },
   "outputs": [],
   "source": [
    "def image_rotate(image, angle):\n",
    "    # use degree measure (e.g., 90 deg)\n",
    "    # grab the dimensions of the image and then determine the\n",
    "    # center\n",
    "    (h, w) = image.shape[:2]\n",
    "    (cX, cY) = (w // 2, h // 2)\n",
    "\n",
    "    border_color=(255, 255, 255)\n",
    "\n",
    "    # grab the rotation matrix (applying the negative of the\n",
    "    # angle to rotate clockwise), then grab the sine and cosine\n",
    "    # (i.e. the rotation components of the matrix)\n",
    "    M = cv2.getRotationMatrix2D((cX, cY), -angle, 1.0)\n",
    "    cos = np.abs(M[0, 0])\n",
    "    sin = np.abs(M[0, 1])\n",
    " \n",
    "    # compute the new bounding dimensions of the image\n",
    "    nW = int((h * sin) + (w * cos))\n",
    "    nH = int((h * cos) + (w * sin))\n",
    " \n",
    "    # adjust the rotation matrix to take into account translation\n",
    "    M[0, 2] += (nW / 2) - cX\n",
    "    M[1, 2] += (nH / 2) - cY\n",
    " \n",
    "    # perform the actual rotation and return the image\n",
    "    return cv2.warpAffine(image, M, (nW, nH))"
   ]
  },
  {
   "cell_type": "code",
   "execution_count": 14,
   "metadata": {
    "id": "mkuReCFD_7CT"
   },
   "outputs": [],
   "source": [
    "def image_resize(image, height, width, inter=cv2.INTER_AREA):\n",
    "    width, height = int(width), int(height)\n",
    "    \n",
    "    # initialize the dimensions of the image to be resized and\n",
    "    # grab the image size\n",
    "    dim = None\n",
    "    (h, w) = image.shape[:2]\n",
    "\n",
    "    # if both the width and height are None, then return the\n",
    "    # original image\n",
    "    if width is None and height is None:\n",
    "        return image\n",
    "\n",
    "    # check to see if the width is None\n",
    "    if width is None:\n",
    "        # calculate the ratio of the height and construct the\n",
    "        # dimensions\n",
    "        r = height / float(h)\n",
    "        dim = (int(w * r), height)\n",
    "\n",
    "    # otherwise, the height is None\n",
    "    else:\n",
    "        # calculate the ratio of the width and construct the\n",
    "        # dimensions\n",
    "        r = width / float(w)\n",
    "        dim = (width, int(h * r))\n",
    "\n",
    "    # resize the image\n",
    "    resized = cv2.resize(image, dim, interpolation = inter)\n",
    "\n",
    "    # return the resized image\n",
    "    return resized"
   ]
  },
  {
   "cell_type": "code",
   "execution_count": 15,
   "metadata": {},
   "outputs": [],
   "source": [
    "# put fg_image on bg_image\n",
    "def image_overlap(bg_image, fg_image, y_offset, x_offset):\n",
    "    x_offset, y_offset = int(x_offset), int(y_offset)\n",
    "    tmp = cv2.cvtColor(fg_image, cv2.COLOR_BGR2GRAY)\n",
    "    \n",
    "    _, alpha = cv2.threshold(tmp, 0, 255, cv2.THRESH_BINARY)\n",
    "    b, g, r, a = cv2.split(cv2.cvtColor(fg_image, cv2.COLOR_RGB2RGBA))\n",
    "    rgba = [b, g, r, alpha]\n",
    "    fg_image = cv2.merge(rgba, 4)\n",
    "    y1, y2 = y_offset, y_offset + fg_image.shape[0]\n",
    "    x1, x2 = x_offset, x_offset + fg_image.shape[1]\n",
    "    \n",
    "    alpha_s = fg_image[:, :, 3] / 255.0\n",
    "    alpha_l = 1.0 - alpha_s\n",
    "    \n",
    "    output_image = np.copy(bg_image)\n",
    "    for c in range(0, 3):\n",
    "        output_image[y1:y2, x1:x2, c] = (alpha_s * fg_image[:, :, c] + alpha_l * bg_image[y1:y2, x1:x2, c])\n",
    "        \n",
    "    return output_image   "
   ]
  },
  {
   "cell_type": "code",
   "execution_count": 16,
   "metadata": {},
   "outputs": [],
   "source": [
    "# whether 2 rectangle is intersected\n",
    "def is_rotated_rectangle_intersected(pos1, pos2, shape1, shape2, angle1=0, angle2=0):\n",
    "    # pos = (y, x), shape = (h, w), angle = 0 ~ 360\n",
    "    rect1 = (pos1[::-1], shape1[::-1], angle1)\n",
    "    rect2 = (pos2[::-1], shape2[::-1], angle2)\n",
    "    return bool(cv2.rotatedRectangleIntersection(rect1, rect2)[0])"
   ]
  },
  {
   "cell_type": "code",
   "execution_count": 17,
   "metadata": {},
   "outputs": [],
   "source": [
    "def paint_rectangle(image, rectangles):\n",
    "    if len(rectangles) == 0:\n",
    "        rectangles = [rectangles]\n",
    "    image = image.copy()\n",
    "    # line_pos = np.array(line_pos).reshape((-1, 1, 2)).astype(int) \n",
    "    for rect in rectangles:\n",
    "        y_min, x_min, y_max, x_max = rect\n",
    "        line_pos = np.int32([[x_min, y_min], [x_max, y_min], [x_max, y_max], [x_min, y_max]])\n",
    "        cv2.polylines(image, [line_pos], True, (255, 255, 128), 3)\n",
    "    return image"
   ]
  },
  {
   "cell_type": "markdown",
   "metadata": {},
   "source": [
    "## Generate Train Images"
   ]
  },
  {
   "cell_type": "code",
   "execution_count": 18,
   "metadata": {},
   "outputs": [],
   "source": [
    "# return image, annotation\n",
    "def generate_train_image(tile_images, bg_image):\n",
    "    assert len(tile_images) <= 25\n",
    "    from random import uniform\n",
    "\n",
    "    shapes  = [(uniform(64*0.9, 64*1.1), uniform(48*0.9, 64*1.1)) for img in tile_images] # (h, w)\n",
    "    angles  = [uniform(0, 360) for img in tile_images]\n",
    "    offsets = [] # (y, x)\n",
    "    \n",
    "    tile_images = [image_resize(img, shape[1], shape[0]) for img, shape in zip(tile_images, shapes)]\n",
    "    tile_images = [image_rotate(img, angle) for img, angle in zip(tile_images, angles)]\n",
    "\n",
    "    # generate non-overlapping offsets\n",
    "    for i in range(len(tile_images)):\n",
    "        t = 0\n",
    "        while True:\n",
    "            y = uniform(0, bg_image.shape[0] - tile_images[i].shape[0])\n",
    "            x = uniform(0, bg_image.shape[1] - tile_images[i].shape[1])            \n",
    "            confilits = [\n",
    "                is_rotated_rectangle_intersected(offsets[j], (y, x), shapes[j], shapes[i], angles[j], angles[i])\n",
    "                for j in range(len(offsets))\n",
    "            ]\n",
    "            if not np.any(confilits):\n",
    "                break    \n",
    "            t += 1\n",
    "            if t > 20: # bg_image is too small to be non-overlapping\n",
    "                i = len(tile_images)\n",
    "                break\n",
    "        offsets.append([y, x])\n",
    "    \n",
    "    result = bg_image.copy()\n",
    "    for img, offset in zip(tile_images, offsets):\n",
    "        result = image_overlap(result, img, offset[0], offset[1])\n",
    "       \n",
    "    # (y_min, x_min, y_max, x_max)\n",
    "    boxes = [\n",
    "        [offsets[i][0], offsets[i][1], offsets[i][0] + tile_images[i].shape[0], offsets[i][1] + tile_images[i].shape[1]]\n",
    "        for i in range(len(tile_images))\n",
    "    ] \n",
    "    boxes = [[int(e) for e in elem] for elem in boxes]\n",
    "        \n",
    "    return result, boxes"
   ]
  },
  {
   "cell_type": "code",
   "execution_count": 19,
   "metadata": {},
   "outputs": [],
   "source": [
    "# voc format\n",
    "def to_voc_annotation_str(filename, image_shape, labels, boxes):\n",
    "# def to_voc_annotation(boxes):\n",
    "    # image_shape = [h, w, c]\n",
    "    # labels = [lable_name]\n",
    "    # boxes = [(y_min, x_min, y_max, x_max)]\n",
    "    \n",
    "    objects_str = [f'''\t<object>\n",
    "\t\t<name>{label}</name>\n",
    "\t\t<pose>Unspecified</pose>\n",
    "\t\t<truncated>0</truncated>\n",
    "\t\t<difficult>0</difficult>\n",
    "\t\t<bndbox>\n",
    "\t\t\t<xmin>{box[1]}</xmin>\n",
    "\t\t\t<ymin>{box[0]}</ymin>\n",
    "\t\t\t<xmax>{box[3]}</xmax>\n",
    "\t\t\t<ymax>{box[2]}</ymax>\n",
    "\t\t</bndbox>\n",
    "\t</object>'''\n",
    "        for label, box in zip(labels, boxes)\n",
    "    ]\n",
    "    objects_str = '\\n'.join(objects_str)\n",
    "    \n",
    "    annotation_str = f'''<annotation>\n",
    "\t<folder>ImageSets</folder>\n",
    "\t<filename>{filename}</filename>\n",
    "\t<source>\n",
    "\t\t<database>Unknown</database>\n",
    "\t</source>\n",
    "\t<size>\n",
    "\t\t<width>{image_shape[1]}</width>\n",
    "\t\t<height>{image_shape[0]}</height>\n",
    "\t\t<depth>{image_shape[2]}</depth>\n",
    "\t</size>\n",
    "\t<segmented>0</segmented>\n",
    "\t{objects_str}\n",
    "</annotation>'''\n",
    "    return annotation_str\n",
    "    "
   ]
  },
  {
   "cell_type": "code",
   "execution_count": 37,
   "metadata": {},
   "outputs": [],
   "source": [
    "# example:\n",
    "# result, locations = generate_train_image(tile_images[1:10], bg_images[32])\n",
    "# print(locations)\n",
    "# result = paint_rectangle(result, locations)\n",
    "# plt.imshow(result)\n",
    "# plt.show()\n"
   ]
  },
  {
   "cell_type": "code",
   "execution_count": 28,
   "metadata": {},
   "outputs": [
    {
     "name": "stderr",
     "output_type": "stream",
     "text": [
      "100%|█████████████████████████████████████████████████████████████████████████████████████████████████████████████████████████████████████████████████████████| 5/5 [00:00<00:00, 92.06it/s]\n",
      "100%|█████████████████████████████████████████████████████████████████████████████████████████████████████████████████████████████████████████████████████████| 2/2 [00:00<00:00, 37.56it/s]\n",
      "100%|█████████████████████████████████████████████████████████████████████████████████████████████████████████████████████████████████████████████████████████| 2/2 [00:00<00:00, 40.17it/s]\n"
     ]
    }
   ],
   "source": [
    "# generate\n",
    "\n",
    "train_images = []\n",
    "train_images_labels = []\n",
    "train_images_boxes = []\n",
    "\n",
    "# generate 100 of 5-tiles-images\n",
    "for i in tqdm(range(5)):\n",
    "    sample_idxs = np.random.choice(range(len(tile_images)), size=5, replace=True)\n",
    "    tile_images_sample = [tile_images[i] for i in sample_idxs]\n",
    "    labels_sample = [tile_images_type[i] for i in sample_idxs]\n",
    "    bg_image_sample = random.choice(bg_images)\n",
    "    \n",
    "    train_image, boxes = generate_train_image(tile_images_sample, bg_image_sample)\n",
    "    \n",
    "    train_images.append(train_image)\n",
    "    train_images_labels.append(labels_sample)\n",
    "    train_images_boxes.append(boxes)\n",
    "\n",
    "    \n",
    "# generate 100 of 15-tiles-images\n",
    "for i in tqdm(range(2)):\n",
    "    sample_idxs = np.random.choice(range(len(tile_images)), size=15, replace=True)\n",
    "    tile_images_sample = [tile_images[i] for i in sample_idxs]\n",
    "    labels_sample = [tile_images_type[i] for i in sample_idxs]\n",
    "    bg_image_sample = random.choice(bg_images)\n",
    "    \n",
    "    train_image, boxes = generate_train_image(tile_images_sample, bg_image_sample)\n",
    "    \n",
    "    train_images.append(train_image)\n",
    "    train_images_labels.append(labels_sample)\n",
    "    train_images_boxes.append(boxes)\n",
    "    \n",
    "# generate 100 of 15-tiles-images\n",
    "for i in tqdm(range(2)):\n",
    "    sample_idxs = np.random.choice(range(len(tile_images)), size=20, replace=True)\n",
    "    tile_images_sample = [tile_images[i] for i in sample_idxs]\n",
    "    labels_sample = [tile_images_type[i] for i in sample_idxs]\n",
    "    bg_image_sample = random.choice(bg_images)\n",
    "    \n",
    "    train_image, boxes = generate_train_image(tile_images_sample, bg_image_sample)\n",
    "    \n",
    "    train_images.append(train_image)\n",
    "    train_images_labels.append(labels_sample)\n",
    "    train_images_boxes.append(boxes)"
   ]
  },
  {
   "cell_type": "code",
   "execution_count": 29,
   "metadata": {},
   "outputs": [
    {
     "name": "stdout",
     "output_type": "stream",
     "text": [
      "9\n"
     ]
    }
   ],
   "source": [
    "print(len(train_images))"
   ]
  },
  {
   "cell_type": "code",
   "execution_count": 30,
   "metadata": {},
   "outputs": [],
   "source": [
    "# example: \n",
    "# i = random.choice(range(len(train_images)))\n",
    "# plt.imshow((train_images[i]))\n",
    "# print(train_images_labels[i])\n",
    "# annotation_str = to_voc_annotation_str('00001.jpg', train_images[i].shape, train_images_labels[i], train_images_boxes[i])\n",
    "# print(annotation_str)"
   ]
  },
  {
   "cell_type": "code",
   "execution_count": 31,
   "metadata": {},
   "outputs": [],
   "source": [
    "# example: \n",
    "# with open('outputs/00001.xml', 'w') as file:\n",
    "#     file.write(to_voc_annotation_str('0001.jpg', [480, 360, 3], ['2w', '9s'], [[1, 2, 3, 4], [2, 4, 6, 8]]))"
   ]
  },
  {
   "cell_type": "code",
   "execution_count": 32,
   "metadata": {},
   "outputs": [
    {
     "name": "stdout",
     "output_type": "stream",
     "text": [
      "mkdir: cannot create directory 'outputs': File exists\n",
      "mkdir: cannot create directory 'outputs/JPEGImages': File exists\n",
      "mkdir: cannot create directory 'outputs/Annotations': File exists\n"
     ]
    }
   ],
   "source": [
    "# output directory\n",
    "\n",
    "!mkdir outputs\n",
    "!mkdir outputs/JPEGImages\n",
    "!mkdir outputs/Annotations"
   ]
  },
  {
   "cell_type": "code",
   "execution_count": 33,
   "metadata": {},
   "outputs": [],
   "source": [
    "!rm -f outputs/JPEGImages/*\n",
    "!rm -f outputs/Annotations/*"
   ]
  },
  {
   "cell_type": "code",
   "execution_count": 34,
   "metadata": {},
   "outputs": [
    {
     "name": "stderr",
     "output_type": "stream",
     "text": [
      "100%|████████████████████████████████████████████████████████████████████████████████████████████████████████████████████████████████████████████████████████| 9/9 [00:00<00:00, 115.16it/s]\n"
     ]
    }
   ],
   "source": [
    "# save \n",
    "\n",
    "for i in tqdm(range(len(train_images))):\n",
    "    img_filename = f'{i+1:06d}.jpg' # 000001.jpg\n",
    "    ann_filename = f'{i+1:06d}.xml' # 000001.xml\n",
    "    \n",
    "    cv2.imwrite('outputs/JPEGImages/' + img_filename, train_images[i])\n",
    "    \n",
    "    annotation_str = to_voc_annotation_str(\n",
    "        filename=img_filename, \n",
    "        image_shape=train_images[i].shape, \n",
    "        labels=train_images_labels[i], \n",
    "        boxes=train_images_boxes[i]\n",
    "    )\n",
    "    with open('outputs/Annotations/' + ann_filename, 'w') as file:\n",
    "        file.write(annotation_str)"
   ]
  },
  {
   "cell_type": "markdown",
   "metadata": {},
   "source": [
    "Don't forget to make `ImageSet` folder and the split of dataset before use."
   ]
  }
 ],
 "metadata": {
  "colab": {
   "collapsed_sections": [],
   "name": "mahjong-dataset.ipynb",
   "provenance": []
  },
  "kernelspec": {
   "display_name": "torch",
   "language": "python",
   "name": "torch"
  },
  "language_info": {
   "codemirror_mode": {
    "name": "ipython",
    "version": 3
   },
   "file_extension": ".py",
   "mimetype": "text/x-python",
   "name": "python",
   "nbconvert_exporter": "python",
   "pygments_lexer": "ipython3",
   "version": "3.7.10"
  },
  "toc-autonumbering": true
 },
 "nbformat": 4,
 "nbformat_minor": 4
}
